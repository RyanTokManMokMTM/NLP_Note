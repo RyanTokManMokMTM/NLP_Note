{
  "nbformat": 4,
  "nbformat_minor": 0,
  "metadata": {
    "colab": {
      "name": "ReadDataFromFile.ipynb",
      "provenance": [],
      "authorship_tag": "ABX9TyOszCc5GeKd5ZxqhgDG92UY",
      "include_colab_link": true
    },
    "kernelspec": {
      "name": "python3",
      "display_name": "Python 3"
    },
    "language_info": {
      "name": "python"
    }
  },
  "cells": [
    {
      "cell_type": "markdown",
      "metadata": {
        "id": "view-in-github",
        "colab_type": "text"
      },
      "source": [
        "<a href=\"https://colab.research.google.com/github/RyanTokManMokMTM/NLP_Note/blob/main/ReadDataFromFile.ipynb\" target=\"_parent\"><img src=\"https://colab.research.google.com/assets/colab-badge.svg\" alt=\"Open In Colab\"/></a>"
      ]
    },
    {
      "cell_type": "code",
      "metadata": {
        "colab": {
          "base_uri": "https://localhost:8080/"
        },
        "id": "Y5z1B08XFLhT",
        "outputId": "a59eb948-5742-407c-fc19-3608209e5f04"
      },
      "source": [
        "import urllib.request as url\n",
        "res = \"https://data.nhi.gov.tw/resource/mask/maskdata.csv\"\n",
        "url.urlretrieve(res,\"./test.csv\")"
      ],
      "execution_count": 2,
      "outputs": [
        {
          "output_type": "execute_result",
          "data": {
            "text/plain": [
              "('./test.csv', <http.client.HTTPMessage at 0x7f9a6a684510>)"
            ]
          },
          "metadata": {
            "tags": []
          },
          "execution_count": 2
        }
      ]
    },
    {
      "cell_type": "code",
      "metadata": {
        "id": "PoSKkWZDUV_a",
        "colab": {
          "base_uri": "https://localhost:8080/"
        },
        "outputId": "690d7de8-eb74-4b67-e13b-5fa38757215d"
      },
      "source": [
        "import csv\n",
        "with open(\"./test.csv\") as csvFiies:\n",
        "  rows = list(csv.reader(csvFiies))\n",
        "  csvHeader = rows[0]\n",
        "  csvData = rows[1:]\n",
        "\n",
        "area = {}\n",
        "\n",
        "for i in csvData:\n",
        "  area[i[2][:3]] = area.get(i[2][:3],0) + int(i[4]) + int(i[5])\n",
        "\n",
        "print(area)"
      ],
      "execution_count": 18,
      "outputs": [
        {
          "output_type": "stream",
          "text": [
            "{'花蓮縣': 260900, '連江縣': 25500, '新竹市': 194110, '嘉義市': 404880, '新北市': 3032500, '新竹縣': 283690, '宜蘭縣': 351310, '苗栗縣': 430260, '臺中市': 2313200, '南投縣': 311130, '嘉義縣': 461970, '臺南市': 1534260, '高雄市': 1986290, '屏東縣': 791290, '澎湖縣': 62910, '臺東縣': 135810, '金門縣': 70790, '臺北市': 1559990, '基隆市': 343790, '桃園市': 1548520, '桃園縣': 5520, '臺中縣': 7340, '彰化縣': 946940, '雲林縣': 801440}\n"
          ],
          "name": "stdout"
        }
      ]
    },
    {
      "cell_type": "code",
      "metadata": {
        "colab": {
          "base_uri": "https://localhost:8080/"
        },
        "id": "CqO8e25eMbB7",
        "outputId": "98ffa473-c898-4e82-94e6-1312ef07da1a"
      },
      "source": [
        "res = \"http://opendata.cwb.gov.tw/govdownload?dataid=F-D0047-093&authorizationkey=rdec-key-123-45678-011121314\"\n",
        "url.urlretrieve(res, \"./a.zip\")\n"
      ],
      "execution_count": 23,
      "outputs": [
        {
          "output_type": "execute_result",
          "data": {
            "text/plain": [
              "('./a.zip', <http.client.HTTPMessage at 0x7f9a6a186fd0>)"
            ]
          },
          "metadata": {
            "tags": []
          },
          "execution_count": 23
        }
      ]
    },
    {
      "cell_type": "code",
      "metadata": {
        "id": "JUGkFZdTSNM7"
      },
      "source": [
        "import zipfile\n",
        "zip = zipfile.ZipFile(\"./a.zip\")\n",
        "zip.extractall(\"./data\")\n",
        "\n",
        "filsXML = open(\"./data/64_72hr_CH.xml\",\"r\")\n",
        "xml = filsXML.read()\n",
        "filsXML.close()"
      ],
      "execution_count": 26,
      "outputs": []
    },
    {
      "cell_type": "code",
      "metadata": {
        "colab": {
          "base_uri": "https://localhost:8080/"
        },
        "id": "UBDqSE-oS1Uw",
        "outputId": "4731cb93-234e-491c-b131-ad23642e3565"
      },
      "source": [
        "!pip install xmltodict"
      ],
      "execution_count": 29,
      "outputs": [
        {
          "output_type": "stream",
          "text": [
            "Collecting xmltodict\n",
            "  Using cached xmltodict-0.12.0-py2.py3-none-any.whl (9.2 kB)\n",
            "Installing collected packages: xmltodict\n",
            "Successfully installed xmltodict-0.12.0\n"
          ],
          "name": "stdout"
        }
      ]
    },
    {
      "cell_type": "code",
      "metadata": {
        "colab": {
          "base_uri": "https://localhost:8080/"
        },
        "id": "YI4dX58LSwbD",
        "outputId": "8e023fc8-2ba2-4967-bc24-42a395642c66"
      },
      "source": [
        "import xmltodict # !pip install xmltodict\n",
        "d = dict(xmltodict.parse(xml))\n",
        "\n",
        "for i in d['cwbopendata']['dataset']['locations']['location']:\n",
        "  print(i[\"locationName\"])"
      ],
      "execution_count": 36,
      "outputs": [
        {
          "output_type": "stream",
          "text": [
            "鹽埕區\n",
            "鼓山區\n",
            "左營區\n",
            "楠梓區\n",
            "三民區\n",
            "新興區\n",
            "前金區\n",
            "苓雅區\n",
            "前鎮區\n",
            "旗津區\n",
            "小港區\n",
            "鳳山區\n",
            "林園區\n",
            "大寮區\n",
            "大樹區\n",
            "大社區\n",
            "仁武區\n",
            "鳥松區\n",
            "岡山區\n",
            "橋頭區\n",
            "燕巢區\n",
            "田寮區\n",
            "阿蓮區\n",
            "路竹區\n",
            "湖內區\n",
            "茄萣區\n",
            "永安區\n",
            "彌陀區\n",
            "梓官區\n",
            "旗山區\n",
            "美濃區\n",
            "六龜區\n",
            "甲仙區\n",
            "杉林區\n",
            "內門區\n",
            "茂林區\n",
            "桃源區\n",
            "那瑪夏區\n"
          ],
          "name": "stdout"
        }
      ]
    },
    {
      "cell_type": "markdown",
      "metadata": {
        "id": "rHY5PqsVYWM0"
      },
      "source": [
        "# API"
      ]
    },
    {
      "cell_type": "code",
      "metadata": {
        "colab": {
          "base_uri": "https://localhost:8080/"
        },
        "id": "gaWVRofDYabO",
        "outputId": "2ed4a74e-effb-40ae-bfb7-a3821cef2f3c"
      },
      "source": [
        "import requests\n",
        "url = \"https://www.dcard.tw/_api/forums/pet/posts?popular=true\"\n",
        "urls = \"https://www.dcard.tw/_api/forums/pet/posts?popular=false\"\n",
        "res = requests.get(url)\n",
        "result = res.text\n",
        "print(res)"
      ],
      "execution_count": 52,
      "outputs": [
        {
          "output_type": "stream",
          "text": [
            "<Response [200]>\n"
          ],
          "name": "stdout"
        }
      ]
    },
    {
      "cell_type": "code",
      "metadata": {
        "colab": {
          "base_uri": "https://localhost:8080/"
        },
        "id": "wxsBPrgxY518",
        "outputId": "28897e0b-8b0d-41bf-e507-14504735b95b"
      },
      "source": [
        "import json \n",
        "data = json.loads(result)\n",
        "\n",
        "print(len(data))\n",
        "print(data[0].keys())"
      ],
      "execution_count": 57,
      "outputs": [
        {
          "output_type": "stream",
          "text": [
            "30\n",
            "dict_keys(['id', 'title', 'excerpt', 'anonymousSchool', 'anonymousDepartment', 'pinned', 'forumId', 'replyId', 'createdAt', 'updatedAt', 'commentCount', 'likeCount', 'withNickname', 'tags', 'topics', 'meta', 'forumName', 'forumAlias', 'nsfw', 'gender', 'school', 'department', 'replyTitle', 'mediaMeta', 'reactions', 'hidden', 'customStyle', 'isSuspiciousAccount', 'isModerator', 'layout', 'spoilerAlert', 'enablePrivateMessage', 'totalCommentCount', 'withImages', 'withVideos', 'media', 'reportReasonText', 'excerptComments', 'postAvatar', 'activityAvatar', 'verifiedBadge', 'memberType'])\n"
          ],
          "name": "stdout"
        }
      ]
    },
    {
      "cell_type": "code",
      "metadata": {
        "colab": {
          "base_uri": "https://localhost:8080/"
        },
        "id": "qjl4g1tQaC0S",
        "outputId": "950479f8-c1b8-4e9b-8046-a187465dd54a"
      },
      "source": [
        "totalComment = 0\n",
        "for i in data:\n",
        "  totalComment  += i[\"commentCount\"]\n",
        "print(totalComment / len(data))"
      ],
      "execution_count": 58,
      "outputs": [
        {
          "output_type": "stream",
          "text": [
            "9.133333333333333\n"
          ],
          "name": "stdout"
        }
      ]
    },
    {
      "cell_type": "code",
      "metadata": {
        "colab": {
          "base_uri": "https://localhost:8080/"
        },
        "id": "8qGoUkWZa2jV",
        "outputId": "ba663784-3ea8-446b-9b02-f4395bba2682"
      },
      "source": [
        "dicard = \"https://www.dcard.tw/_api/forums\"\n",
        "res = requests.get(dicard)\n",
        "result = res.text\n",
        "\n",
        "data = json.loads(result)\n",
        "print(len(data))"
      ],
      "execution_count": 64,
      "outputs": [
        {
          "output_type": "stream",
          "text": [
            "514\n"
          ],
          "name": "stdout"
        }
      ]
    },
    {
      "cell_type": "code",
      "metadata": {
        "colab": {
          "base_uri": "https://localhost:8080/"
        },
        "id": "qfqcPdjua2d5",
        "outputId": "a20bfb6a-3410-40b2-8591-e52fc491954a"
      },
      "source": [
        "sortedData = sorted(data,key=lambda x:x[\"subscriptionCount\"])\n",
        "\n",
        "print(sortedData[-1])"
      ],
      "execution_count": 67,
      "outputs": [
        {
          "output_type": "stream",
          "text": [
            "{'id': '1ce3ebca-8701-42d5-b14c-076fc629bc8e', 'alias': 'sex', 'name': '西斯', 'description': '西斯板（Sex）提供男女私密話題分享或性教育等情慾議題討論，若有性方面相關問題也可在此發問。（發文前請詳閱板規。）', 'subscriptionCount': 608882, 'subscribed': False, 'read': False, 'createdAt': '2020-02-04T07:52:53.573Z', 'updatedAt': '2021-06-24T04:50:12.522Z', 'canPost': False, 'ignorePost': True, 'invisible': True, 'isSchool': False, 'fullyAnonymous': True, 'canUseNickname': True, 'postThumbnail': {'size': 'small'}, 'shouldCategorized': False, 'shouldPostCategorized': False, 'hasPostCategories': False, 'titlePlaceholder': '發文請記得在下一頁加入話題或其他相關分類喲！', 'postTitlePlaceholder': '', 'ipCountryCondition': {}, 'subcategories': ['創作', '知識', '圖文'], 'topics': ['A片', '甲', 'Les', '無碼片', 'NTR', '內射', '自慰', '3P', '外流', '意淫自拍OL黑絲', '玩具大賞', '情趣用品', '大雞雞', '保險套', '約炮', 'H漫', '調教', '潤滑液', '做愛'], 'nsfw': True, 'mediaThreshold': {'RACY': 1, 'ADULT': 1, 'VIOLENCE': 1}, 'limitCountries': [], 'limitStage': 0, 'availableLayouts': ['classic'], 'heroImage': {'url': 'https://megapx-assets.dcard.tw/images/50a4b6e7-fe05-493c-af56-ac63a1a73259/orig.jpeg', 'type': 'image/jpeg', 'width': 1800, 'height': 600}, 'logo': {'url': 'https://megapx-assets.dcard.tw/images/24f4f7ef-c308-4c37-80dc-349fd47cf71a/full.jpeg', 'type': 'image/jpeg', 'width': 200, 'height': 200}, 'postCount': {'last30Days': 5659}, 'favorite': False, 'enablePrivateMessage': False}\n"
          ],
          "name": "stdout"
        }
      ]
    }
  ]
}