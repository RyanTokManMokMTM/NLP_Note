{
  "nbformat": 4,
  "nbformat_minor": 0,
  "metadata": {
    "colab": {
      "name": "web crawler",
      "provenance": [],
      "collapsed_sections": [],
      "authorship_tag": "ABX9TyPA/HF4rq+lDSELjaB8d7Al",
      "include_colab_link": true
    },
    "kernelspec": {
      "name": "python3",
      "display_name": "Python 3"
    },
    "language_info": {
      "name": "python"
    }
  },
  "cells": [
    {
      "cell_type": "markdown",
      "metadata": {
        "id": "view-in-github",
        "colab_type": "text"
      },
      "source": [
        "<a href=\"https://colab.research.google.com/github/RyanTokManMokMTM/NLP_Note/blob/main/web_crawler_HW.ipynb\" target=\"_parent\"><img src=\"https://colab.research.google.com/assets/colab-badge.svg\" alt=\"Open In Colab\"/></a>"
      ]
    },
    {
      "cell_type": "code",
      "metadata": {
        "id": "DHqcEImQCqpu"
      },
      "source": [
        "#TODO\n",
        "'''\n",
        "baseURL:https://movies.yahoo.com.tw/\n",
        "playingNOW:/movie_intheaters.html\n",
        "Upcoming:movie_comingsoon.html\n",
        "ThisWeek:/movie_thisweek.html\n",
        "\n",
        "Accessing the page ?page=x\n",
        "'''"
      ],
      "execution_count": null,
      "outputs": []
    },
    {
      "cell_type": "code",
      "metadata": {
        "colab": {
          "base_uri": "https://localhost:8080/"
        },
        "id": "sdSwqobnIoR3",
        "outputId": "bd0ff825-0ec1-4615-e07c-2d8e3fd3f5a8"
      },
      "source": [
        "!pip install pandas #install pandas"
      ],
      "execution_count": 7,
      "outputs": [
        {
          "output_type": "stream",
          "text": [
            "Requirement already satisfied: pandas in /usr/local/lib/python3.7/dist-packages (1.1.5)\n",
            "Requirement already satisfied: pytz>=2017.2 in /usr/local/lib/python3.7/dist-packages (from pandas) (2018.9)\n",
            "Requirement already satisfied: numpy>=1.15.4 in /usr/local/lib/python3.7/dist-packages (from pandas) (1.19.5)\n",
            "Requirement already satisfied: python-dateutil>=2.7.3 in /usr/local/lib/python3.7/dist-packages (from pandas) (2.8.1)\n",
            "Requirement already satisfied: six>=1.5 in /usr/local/lib/python3.7/dist-packages (from python-dateutil>=2.7.3->pandas) (1.15.0)\n"
          ],
          "name": "stdout"
        }
      ]
    },
    {
      "cell_type": "code",
      "metadata": {
        "id": "cfG1qhYdNcU-"
      },
      "source": [
        "'''\n",
        "Find The rule of first Movie\n",
        "ForCurrentPage: \n",
        "All movie is inside  class = \"release_list\"\n",
        "Get The URL of the introl button: class=\"release_btn color_btnbox\" first a tag[href']\n",
        "\n",
        "\n",
        "1.ForEach movies, need to get its detail page URL\n",
        "2....\n",
        "'''"
      ],
      "execution_count": null,
      "outputs": []
    },
    {
      "cell_type": "code",
      "metadata": {
        "colab": {
          "base_uri": "https://localhost:8080/"
        },
        "id": "6-dQFfl4HKh3",
        "outputId": "bf1425c4-87d2-46bc-a00b-2b527f5acd37"
      },
      "source": [
        "import requests\n",
        "from bs4 import BeautifulSoup\n",
        "HEADER = {\n",
        "       'User-Agent': 'Mozilla/5.0 (Macintosh; Intel Mac OS X 10_13_6) AppleWebKit/537.36 (KHTML, like Gecko) Chrome/71.0.3578.98 Safari/537.36'\n",
        "}\n",
        "\n",
        "\n",
        "type_list = {\n",
        "    \"playing\":\"/movie_intheaters.html\",\n",
        "    \"upcoming\":\"/movie_comingsoon.html\",\n",
        "    \"thisweek\":\"/movie_thisweek.html\"\n",
        "}\n",
        "\n",
        "baseURL = \"https://movies.yahoo.com.tw\"+ type_list[\"playing\"]\n",
        "print(baseURL)\n",
        "\n",
        "#now sending the request\n",
        "movieReq = requests.get(baseURL,headers=HEADER)\n",
        "currentPage = BeautifulSoup(movieReq.text)\n",
        "\n",
        "#get all movie data from `\n",
        "movieList = currentPage.find(\"div\",class_=\"release_box\").find(\"ul\",class_=\"release_list\").find(\"a\",class_=\"btn_s_introduction\")['href']\n",
        "print(movieList)\n",
        "\n",
        "#now we need to get all data for the movie\n",
        "#now we get the name and its link for tesing\n",
        "movieData = currentPage.findAll(\"div\",class_=\"release_info\")\n",
        "for item in movieData:\n",
        "    #get movie name\n",
        "    print(item.find(\"div\",class_=\"release_movie_name\").find(\"a\",class_=\"gabtn\").text.strip())\n",
        "\n",
        "    #get movie detail URL\n",
        "    print(item.find(\"div\",class_=\"release_btn color_btnbox\").find(\"a\",class_=\"btn_s_introduction\")[\"href\"])\n"
      ],
      "execution_count": 24,
      "outputs": [
        {
          "output_type": "stream",
          "text": [
            "https://movies.yahoo.com.tw/movie_intheaters.html\n",
            "https://movies.yahoo.com.tw/movieinfo_main/%E8%B7%AF%E5%8D%A1%E7%9A%84%E5%A4%8F%E5%A4%A9-luca-11268\n",
            "路卡的夏天\n",
            "https://movies.yahoo.com.tw/movieinfo_main/%E8%B7%AF%E5%8D%A1%E7%9A%84%E5%A4%8F%E5%A4%A9-luca-11268\n",
            "薄荷糖\n",
            "https://movies.yahoo.com.tw/movieinfo_main/%E8%96%84%E8%8D%B7%E7%B3%96-peppermint-candy-11368\n",
            "人聲\n",
            "https://movies.yahoo.com.tw/movieinfo_main/%E4%BA%BA%E8%81%B2-the-human-voice-11400\n",
            "雙面薇若妮卡 經典數位修復\n",
            "https://movies.yahoo.com.tw/movieinfo_main/%E9%9B%99%E9%9D%A2%E8%96%87%E8%8B%A5%E5%A6%AE%E5%8D%A1-%E7%B6%93%E5%85%B8%E6%95%B8%E4%BD%8D%E4%BF%AE%E5%BE%A9-the-double-life-of-veronique-11425\n",
            "合法伴侶\n",
            "https://movies.yahoo.com.tw/movieinfo_main/%E5%90%88%E6%B3%95%E4%BC%B4%E4%BE%B6-special-couple-11441\n",
            "甲子園：夢想競技場\n",
            "https://movies.yahoo.com.tw/movieinfo_main/%E7%94%B2%E5%AD%90%E5%9C%92-%E5%A4%A2%E6%83%B3%E7%AB%B6%E6%8A%80%E5%A0%B4-koshien-japans-field-of-dreams-11449\n",
            "青春：第50屆日本全國高中棒球錦標賽\n",
            "https://movies.yahoo.com.tw/movieinfo_main/%E9%9D%92%E6%98%A5-%E7%AC%AC50%E5%B1%86%E6%97%A5%E6%9C%AC%E5%85%A8%E5%9C%8B%E9%AB%98%E4%B8%AD%E6%A3%92%E7%90%83%E9%8C%A6%E6%A8%99%E8%B3%BD-youth-the-50th-national-high-school-baseball-tournament-11450\n",
            "自殺突擊隊：集結\n",
            "https://movies.yahoo.com.tw/movieinfo_main/%E8%87%AA%E6%AE%BA%E7%AA%81%E6%93%8A%E9%9A%8A-%E9%9B%86%E7%B5%90-the-suicide-squad-11328\n",
            "驅魔禁區\n",
            "https://movies.yahoo.com.tw/movieinfo_main/%E9%A9%85%E9%AD%94%E7%A6%81%E5%8D%80-demonic-11439\n",
            "叢林奇航\n",
            "https://movies.yahoo.com.tw/movieinfo_main/%E5%8F%A2%E6%9E%97%E5%A5%87%E8%88%AA-jungle-cruise-10315\n"
          ],
          "name": "stdout"
        }
      ]
    },
    {
      "cell_type": "code",
      "metadata": {
        "colab": {
          "base_uri": "https://localhost:8080/"
        },
        "id": "jHBiEcdCPPpl",
        "outputId": "aebc0580-5fc4-4497-ab74-5b5a9d9f8eae"
      },
      "source": [
        "#for now just getting the page data\n",
        "#Ignore other related movie for now\n",
        "#later fix existing movie\n",
        "\n",
        "\n",
        "baseURL += \"?page=%s\"%1\n",
        "print(baseURL)\n"
      ],
      "execution_count": 29,
      "outputs": [
        {
          "output_type": "stream",
          "text": [
            "https://movies.yahoo.com.tw/movie_intheaters.html?page1?page1=?page=1\n"
          ],
          "name": "stdout"
        }
      ]
    },
    {
      "cell_type": "code",
      "metadata": {
        "id": "15SFyeT2RCT_"
      },
      "source": [
        ""
      ],
      "execution_count": null,
      "outputs": []
    }
  ]
}